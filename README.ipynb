{
 "cells": [
  {
   "cell_type": "markdown",
   "id": "8899d3b1",
   "metadata": {},
   "source": [
    "# Formulario Web con Validación Y Barra De Progreso\n",
    "\n",
    "\n",
    "TECNOLOGIAS EN USO\n",
    "\n",
    "---**HTML**: Estructura y semantica del formulario \n",
    "\n",
    "---**CSS**: Estilos visuales, transiciones, animaciones y diseño del formulario \n",
    " \n",
    " *se enlasa por medio de (link rel=\"stylesheet\" href=\"--ruta de la carpeta de estilos--\")*\n",
    "\n",
    "---**Js**: Se hizo uso de JS para validacion, manipulación DOM e interaccion,no se hizo por aparte el scrip sino que se puso en el mismo **HTML**\n",
    "\n",
    "\n",
    "## Flujo del Usuario\n",
    "\n",
    "1. Abre `formulario.html` en un navegador moderno (Chrome, Firefox, Edge, etc.).\n",
    "2. Se llena el formulario.\n",
    "3. Se reciben alertas inmediatas por campo.\n",
    "4. La barra de progreso indica el avance.\n",
    "5. Se habilita el botón solo al completar correctamente todos los campos.\n",
    "6. Se muestra un resumen de datos ingresados al final.\n",
    "\n",
    "\n"
   ]
  }
 ],
 "metadata": {
  "language_info": {
   "name": "python"
  }
 },
 "nbformat": 4,
 "nbformat_minor": 5
}
